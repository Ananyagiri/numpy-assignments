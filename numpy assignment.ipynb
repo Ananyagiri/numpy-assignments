{
 "cells": [
  {
   "cell_type": "code",
   "execution_count": 1,
   "id": "affected-running",
   "metadata": {},
   "outputs": [],
   "source": [
    "import numpy as np"
   ]
  },
  {
   "cell_type": "markdown",
   "id": "reduced-culture",
   "metadata": {},
   "source": [
    "# 1. Create a null vector of size 10 but the fifth value which is 1."
   ]
  },
  {
   "cell_type": "code",
   "execution_count": 4,
   "id": "fatty-contract",
   "metadata": {},
   "outputs": [
    {
     "name": "stdout",
     "output_type": "stream",
     "text": [
      "[0 0 0 0 1 0 0 0 0 0]\n"
     ]
    }
   ],
   "source": [
    "a=np.zeros(10,int)\n",
    "a[4]=1\n",
    "print(a)\n"
   ]
  },
  {
   "cell_type": "markdown",
   "id": "least-miniature",
   "metadata": {},
   "source": [
    "# 2. Create a vector with values ranging from 10 to 49."
   ]
  },
  {
   "cell_type": "code",
   "execution_count": 8,
   "id": "acquired-fortune",
   "metadata": {},
   "outputs": [
    {
     "name": "stdout",
     "output_type": "stream",
     "text": [
      "[10 11 12 13 14 15 16 17 18 19 20 21 22 23 24 25 26 27 28 29 30 31 32 33\n",
      " 34 35 36 37 38 39 40 41 42 43 44 45 46 47 48 49]\n"
     ]
    }
   ],
   "source": [
    "b=np.arange(10,50)\n",
    "print(b)"
   ]
  },
  {
   "cell_type": "markdown",
   "id": "contemporary-smell",
   "metadata": {},
   "source": [
    "# 3. Create a 3x3 matrix with values ranging from 0 to 8"
   ]
  },
  {
   "cell_type": "code",
   "execution_count": 45,
   "id": "scientific-answer",
   "metadata": {},
   "outputs": [
    {
     "name": "stdout",
     "output_type": "stream",
     "text": [
      "[[0 1 2]\n",
      " [3 4 5]\n",
      " [6 7 8]]\n"
     ]
    }
   ],
   "source": [
    "c=np.arange(0,9).reshape(3,3)\n",
    "print(c)"
   ]
  },
  {
   "cell_type": "markdown",
   "id": "vital-province",
   "metadata": {},
   "source": [
    "# 4. Find indices of non-zero elements from [1,2,0,0,4,0]"
   ]
  },
  {
   "cell_type": "code",
   "execution_count": 68,
   "id": "figured-imaging",
   "metadata": {},
   "outputs": [
    {
     "name": "stdout",
     "output_type": "stream",
     "text": [
      "Indices of non-zero elements from the given array: [0 1 4]\n"
     ]
    }
   ],
   "source": [
    "d=np.array([1,2,0,0,4,0])\n",
    "z=np.where(d!=0)[0]\n",
    "print('Indices of non-zero elements from the given array:',z)"
   ]
  },
  {
   "cell_type": "markdown",
   "id": "beginning-mumbai",
   "metadata": {},
   "source": [
    "# 5. Create a 10x10 array with random values and find the minimum and maximum values."
   ]
  },
  {
   "cell_type": "code",
   "execution_count": 44,
   "id": "british-louisville",
   "metadata": {},
   "outputs": [
    {
     "name": "stdout",
     "output_type": "stream",
     "text": [
      "The array is [[0.78636594 0.19843584 0.32284147 0.22447667 0.20260545 0.4583581\n",
      "  0.11260487 0.09617006 0.17859863 0.78548573]\n",
      " [0.76984012 0.83571063 0.56972852 0.77579764 0.8000678  0.85637362\n",
      "  0.20331709 0.97883469 0.21151796 0.18407131]\n",
      " [0.84622757 0.7717084  0.02430605 0.27557232 0.08529945 0.58776918\n",
      "  0.31357788 0.38936558 0.2974038  0.26541906]\n",
      " [0.64731954 0.90618558 0.75396513 0.01210103 0.9021069  0.88501983\n",
      "  0.30776478 0.7574067  0.09740253 0.28860002]\n",
      " [0.19562021 0.54520255 0.30522726 0.08651828 0.55136212 0.04849473\n",
      "  0.94995066 0.62444933 0.31374667 0.04043799]\n",
      " [0.68184444 0.90394336 0.54488368 0.45198157 0.13803035 0.05381262\n",
      "  0.85956789 0.26114143 0.55778454 0.26955675]\n",
      " [0.65565733 0.59781156 0.88910061 0.7492098  0.20310238 0.2763806\n",
      "  0.80786507 0.658384   0.23217774 0.13490424]\n",
      " [0.85115143 0.96561018 0.60507152 0.14030017 0.95258711 0.84036001\n",
      "  0.93148217 0.23347703 0.68016567 0.98562824]\n",
      " [0.04117206 0.67205234 0.12389016 0.96930876 0.01408499 0.76579941\n",
      "  0.06127142 0.00733496 0.27599922 0.23585556]\n",
      " [0.63264081 0.87219206 0.99723505 0.48252357 0.23719588 0.48176521\n",
      "  0.20501919 0.77575507 0.11390829 0.16929167]]\n",
      "\n",
      "The minimum value is 0.007334958541582615 \n",
      "The maximum value is 0.9972350461315053\n"
     ]
    }
   ],
   "source": [
    "e=np.random.rand(10,10)\n",
    "print('The array is',e)\n",
    "print('\\nThe minimum value is',e.min(),'\\nThe maximum value is',e.max())"
   ]
  },
  {
   "cell_type": "markdown",
   "id": "distributed-archives",
   "metadata": {},
   "source": [
    "# 6. Create a random vector of size 30 and find the mean value.\n"
   ]
  },
  {
   "cell_type": "code",
   "execution_count": 43,
   "id": "crucial-thickness",
   "metadata": {},
   "outputs": [
    {
     "name": "stdout",
     "output_type": "stream",
     "text": [
      "The array is [0.3320684  0.00253767 0.24069587 0.85855701 0.4473861  0.68916294\n",
      " 0.70117888 0.08543035 0.00297768 0.19222453 0.154674   0.8573158\n",
      " 0.41657447 0.26241275 0.52875563 0.33118331 0.03412392 0.13811552\n",
      " 0.38870039 0.12757012 0.09196212 0.99089109 0.68021954 0.97393325\n",
      " 0.33664452 0.0029418  0.20810569 0.71544225 0.76942826 0.1332017 ]\n",
      "\n",
      "The mean value is 0.38981385145428205\n"
     ]
    }
   ],
   "source": [
    "f=np.random.random(30)\n",
    "print('The array is',f)\n",
    "print('\\nThe mean value is',f.mean())\n"
   ]
  },
  {
   "cell_type": "code",
   "execution_count": null,
   "id": "stupid-myrtle",
   "metadata": {},
   "outputs": [],
   "source": []
  }
 ],
 "metadata": {
  "kernelspec": {
   "display_name": "Python 3",
   "language": "python",
   "name": "python3"
  },
  "language_info": {
   "codemirror_mode": {
    "name": "ipython",
    "version": 3
   },
   "file_extension": ".py",
   "mimetype": "text/x-python",
   "name": "python",
   "nbconvert_exporter": "python",
   "pygments_lexer": "ipython3",
   "version": "3.9.2"
  }
 },
 "nbformat": 4,
 "nbformat_minor": 5
}
